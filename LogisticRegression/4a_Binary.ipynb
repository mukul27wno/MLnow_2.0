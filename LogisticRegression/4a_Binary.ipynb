{
  "nbformat": 4,
  "nbformat_minor": 0,
  "metadata": {
    "colab": {
      "name": "4a_Binary.ipynb",
      "provenance": [],
      "collapsed_sections": [],
      "include_colab_link": true
    },
    "kernelspec": {
      "name": "python3",
      "display_name": "Python 3"
    }
  },
  "cells": [
    {
      "cell_type": "markdown",
      "metadata": {
        "id": "view-in-github",
        "colab_type": "text"
      },
      "source": [
        "<a href=\"https://colab.research.google.com/github/mukul27wno/MLnow_2.0/blob/main/LogisticRegression/4a_Binary.ipynb\" target=\"_parent\"><img src=\"https://colab.research.google.com/assets/colab-badge.svg\" alt=\"Open In Colab\"/></a>"
      ]
    },
    {
      "cell_type": "markdown",
      "metadata": {
        "id": "AIi5R9A6zU8Y"
      },
      "source": [
        "> This notebook was created for code illustration of binary logistic regression during one of the lectures of the `ML.now()` course.\n",
        "\n",
        "\n",
        "[Link to Download the Titanic dataset](https://www.kaggle.com/c/titanic/data)\n",
        "\n",
        "**Date Created**: June 20, 2021\n",
        "\n",
        "\n",
        "**Author**:\n",
        " Shivani Shimpi \n",
        "\n",
        "**Reach out**:\n",
        "[Email](mailto:shivanishimpi9@gmail.com) | [GitHub](https://github.com/shivanishimpi) | [LinkedIn](https://www.linkedin.com/in/shivani-shimpi-5113a8170/)\n",
        "\n",
        "\n",
        "\n",
        "Feel free to check out my [website](http://shivanishimpi.github.io/) for more information about me\n"
      ]
    },
    {
      "cell_type": "code",
      "metadata": {
        "colab": {
          "base_uri": "https://localhost:8080/"
        },
        "id": "R8ZigFN4xfNd",
        "outputId": "51ade544-0abd-46c9-8065-e8dcfcd2d3da"
      },
      "source": [
        "from google.colab import drive\n",
        "drive.mount('/content/drive')"
      ],
      "execution_count": null,
      "outputs": [
        {
          "output_type": "stream",
          "text": [
            "Mounted at /content/drive\n"
          ],
          "name": "stdout"
        }
      ]
    },
    {
      "cell_type": "code",
      "metadata": {
        "colab": {
          "base_uri": "https://localhost:8080/"
        },
        "id": "LSA1YksZzpYz",
        "outputId": "01b46186-34dd-4f8e-ac1d-8a42eb9b60d7"
      },
      "source": [
        "# %%bash\n",
        "# cd '/content/drive/MyDrive/Courses/ML.now()/CodeArchive/Logistic-Regression/Binary' \n",
        "# ls"
      ],
      "execution_count": null,
      "outputs": [
        {
          "output_type": "stream",
          "text": [
            "BinaryClassification.ipynb\n",
            "test.csv\n",
            "train.csv\n",
            "updatedTrainData.csv\n"
          ],
          "name": "stdout"
        }
      ]
    },
    {
      "cell_type": "code",
      "metadata": {
        "colab": {
          "base_uri": "https://localhost:8080/"
        },
        "id": "cMw0zX5Dn4ux",
        "outputId": "302b5cdb-bd76-4c76-d71c-950846f66860"
      },
      "source": [
        "cd '/content/drive/MyDrive/Courses/ML.now()/LiveCodeSession/Datasets/TitanicData'"
      ],
      "execution_count": null,
      "outputs": [
        {
          "output_type": "stream",
          "text": [
            "/content/drive/MyDrive/Courses/ML.now()/LiveCodeSession/Datasets/TitanicData\n"
          ],
          "name": "stdout"
        }
      ]
    },
    {
      "cell_type": "code",
      "metadata": {
        "colab": {
          "base_uri": "https://localhost:8080/"
        },
        "id": "N-AokFQPoCQ9",
        "outputId": "877be5b0-5dc3-4651-91fe-fe9cddc5155c"
      },
      "source": [
        "!ls"
      ],
      "execution_count": null,
      "outputs": [
        {
          "output_type": "stream",
          "text": [
            "train.csv\n"
          ],
          "name": "stdout"
        }
      ]
    },
    {
      "cell_type": "code",
      "metadata": {
        "id": "TpPsY40Iz6nP"
      },
      "source": [
        "import pandas as pd\n",
        "import numpy as np\n",
        "import tensorflow as tf\n",
        "from tensorflow import keras\n",
        "import os"
      ],
      "execution_count": null,
      "outputs": []
    },
    {
      "cell_type": "code",
      "metadata": {
        "colab": {
          "base_uri": "https://localhost:8080/"
        },
        "id": "OiO7_dmHhKh4",
        "outputId": "3479d51d-1e45-4c50-d375-48e62cc0e47d"
      },
      "source": [
        "# cd '/content/drive/MyDrive/Courses/ML.now()/CodeArchive/Logistic-Regression/Binary'"
      ],
      "execution_count": null,
      "outputs": [
        {
          "output_type": "stream",
          "text": [
            "/content/drive/MyDrive/Courses/ML.now()/CodeArchive/Logistic-Regression/Binary\n"
          ],
          "name": "stdout"
        }
      ]
    },
    {
      "cell_type": "code",
      "metadata": {
        "colab": {
          "base_uri": "https://localhost:8080/",
          "height": 677
        },
        "id": "-anfcPz_0D-o",
        "outputId": "a2be5310-0886-4140-e3cd-63acf5bbfa3c"
      },
      "source": [
        "trainData = pd.read_csv('train.csv', sep=',')\n",
        "trainData.head(20)"
      ],
      "execution_count": null,
      "outputs": [
        {
          "output_type": "execute_result",
          "data": {
            "text/html": [
              "<div>\n",
              "<style scoped>\n",
              "    .dataframe tbody tr th:only-of-type {\n",
              "        vertical-align: middle;\n",
              "    }\n",
              "\n",
              "    .dataframe tbody tr th {\n",
              "        vertical-align: top;\n",
              "    }\n",
              "\n",
              "    .dataframe thead th {\n",
              "        text-align: right;\n",
              "    }\n",
              "</style>\n",
              "<table border=\"1\" class=\"dataframe\">\n",
              "  <thead>\n",
              "    <tr style=\"text-align: right;\">\n",
              "      <th></th>\n",
              "      <th>PassengerId</th>\n",
              "      <th>Survived</th>\n",
              "      <th>Pclass</th>\n",
              "      <th>Name</th>\n",
              "      <th>Sex</th>\n",
              "      <th>Age</th>\n",
              "      <th>SibSp</th>\n",
              "      <th>Parch</th>\n",
              "      <th>Ticket</th>\n",
              "      <th>Fare</th>\n",
              "      <th>Cabin</th>\n",
              "      <th>Embarked</th>\n",
              "    </tr>\n",
              "  </thead>\n",
              "  <tbody>\n",
              "    <tr>\n",
              "      <th>0</th>\n",
              "      <td>1</td>\n",
              "      <td>0</td>\n",
              "      <td>3</td>\n",
              "      <td>Braund, Mr. Owen Harris</td>\n",
              "      <td>male</td>\n",
              "      <td>22.0</td>\n",
              "      <td>1</td>\n",
              "      <td>0</td>\n",
              "      <td>A/5 21171</td>\n",
              "      <td>7.2500</td>\n",
              "      <td>NaN</td>\n",
              "      <td>S</td>\n",
              "    </tr>\n",
              "    <tr>\n",
              "      <th>1</th>\n",
              "      <td>2</td>\n",
              "      <td>1</td>\n",
              "      <td>1</td>\n",
              "      <td>Cumings, Mrs. John Bradley (Florence Briggs Th...</td>\n",
              "      <td>female</td>\n",
              "      <td>38.0</td>\n",
              "      <td>1</td>\n",
              "      <td>0</td>\n",
              "      <td>PC 17599</td>\n",
              "      <td>71.2833</td>\n",
              "      <td>C85</td>\n",
              "      <td>C</td>\n",
              "    </tr>\n",
              "    <tr>\n",
              "      <th>2</th>\n",
              "      <td>3</td>\n",
              "      <td>1</td>\n",
              "      <td>3</td>\n",
              "      <td>Heikkinen, Miss. Laina</td>\n",
              "      <td>female</td>\n",
              "      <td>26.0</td>\n",
              "      <td>0</td>\n",
              "      <td>0</td>\n",
              "      <td>STON/O2. 3101282</td>\n",
              "      <td>7.9250</td>\n",
              "      <td>NaN</td>\n",
              "      <td>S</td>\n",
              "    </tr>\n",
              "    <tr>\n",
              "      <th>3</th>\n",
              "      <td>4</td>\n",
              "      <td>1</td>\n",
              "      <td>1</td>\n",
              "      <td>Futrelle, Mrs. Jacques Heath (Lily May Peel)</td>\n",
              "      <td>female</td>\n",
              "      <td>35.0</td>\n",
              "      <td>1</td>\n",
              "      <td>0</td>\n",
              "      <td>113803</td>\n",
              "      <td>53.1000</td>\n",
              "      <td>C123</td>\n",
              "      <td>S</td>\n",
              "    </tr>\n",
              "    <tr>\n",
              "      <th>4</th>\n",
              "      <td>5</td>\n",
              "      <td>0</td>\n",
              "      <td>3</td>\n",
              "      <td>Allen, Mr. William Henry</td>\n",
              "      <td>male</td>\n",
              "      <td>35.0</td>\n",
              "      <td>0</td>\n",
              "      <td>0</td>\n",
              "      <td>373450</td>\n",
              "      <td>8.0500</td>\n",
              "      <td>NaN</td>\n",
              "      <td>S</td>\n",
              "    </tr>\n",
              "    <tr>\n",
              "      <th>5</th>\n",
              "      <td>6</td>\n",
              "      <td>0</td>\n",
              "      <td>3</td>\n",
              "      <td>Moran, Mr. James</td>\n",
              "      <td>male</td>\n",
              "      <td>NaN</td>\n",
              "      <td>0</td>\n",
              "      <td>0</td>\n",
              "      <td>330877</td>\n",
              "      <td>8.4583</td>\n",
              "      <td>NaN</td>\n",
              "      <td>Q</td>\n",
              "    </tr>\n",
              "    <tr>\n",
              "      <th>6</th>\n",
              "      <td>7</td>\n",
              "      <td>0</td>\n",
              "      <td>1</td>\n",
              "      <td>McCarthy, Mr. Timothy J</td>\n",
              "      <td>male</td>\n",
              "      <td>54.0</td>\n",
              "      <td>0</td>\n",
              "      <td>0</td>\n",
              "      <td>17463</td>\n",
              "      <td>51.8625</td>\n",
              "      <td>E46</td>\n",
              "      <td>S</td>\n",
              "    </tr>\n",
              "    <tr>\n",
              "      <th>7</th>\n",
              "      <td>8</td>\n",
              "      <td>0</td>\n",
              "      <td>3</td>\n",
              "      <td>Palsson, Master. Gosta Leonard</td>\n",
              "      <td>male</td>\n",
              "      <td>2.0</td>\n",
              "      <td>3</td>\n",
              "      <td>1</td>\n",
              "      <td>349909</td>\n",
              "      <td>21.0750</td>\n",
              "      <td>NaN</td>\n",
              "      <td>S</td>\n",
              "    </tr>\n",
              "    <tr>\n",
              "      <th>8</th>\n",
              "      <td>9</td>\n",
              "      <td>1</td>\n",
              "      <td>3</td>\n",
              "      <td>Johnson, Mrs. Oscar W (Elisabeth Vilhelmina Berg)</td>\n",
              "      <td>female</td>\n",
              "      <td>27.0</td>\n",
              "      <td>0</td>\n",
              "      <td>2</td>\n",
              "      <td>347742</td>\n",
              "      <td>11.1333</td>\n",
              "      <td>NaN</td>\n",
              "      <td>S</td>\n",
              "    </tr>\n",
              "    <tr>\n",
              "      <th>9</th>\n",
              "      <td>10</td>\n",
              "      <td>1</td>\n",
              "      <td>2</td>\n",
              "      <td>Nasser, Mrs. Nicholas (Adele Achem)</td>\n",
              "      <td>female</td>\n",
              "      <td>14.0</td>\n",
              "      <td>1</td>\n",
              "      <td>0</td>\n",
              "      <td>237736</td>\n",
              "      <td>30.0708</td>\n",
              "      <td>NaN</td>\n",
              "      <td>C</td>\n",
              "    </tr>\n",
              "    <tr>\n",
              "      <th>10</th>\n",
              "      <td>11</td>\n",
              "      <td>1</td>\n",
              "      <td>3</td>\n",
              "      <td>Sandstrom, Miss. Marguerite Rut</td>\n",
              "      <td>female</td>\n",
              "      <td>4.0</td>\n",
              "      <td>1</td>\n",
              "      <td>1</td>\n",
              "      <td>PP 9549</td>\n",
              "      <td>16.7000</td>\n",
              "      <td>G6</td>\n",
              "      <td>S</td>\n",
              "    </tr>\n",
              "    <tr>\n",
              "      <th>11</th>\n",
              "      <td>12</td>\n",
              "      <td>1</td>\n",
              "      <td>1</td>\n",
              "      <td>Bonnell, Miss. Elizabeth</td>\n",
              "      <td>female</td>\n",
              "      <td>58.0</td>\n",
              "      <td>0</td>\n",
              "      <td>0</td>\n",
              "      <td>113783</td>\n",
              "      <td>26.5500</td>\n",
              "      <td>C103</td>\n",
              "      <td>S</td>\n",
              "    </tr>\n",
              "    <tr>\n",
              "      <th>12</th>\n",
              "      <td>13</td>\n",
              "      <td>0</td>\n",
              "      <td>3</td>\n",
              "      <td>Saundercock, Mr. William Henry</td>\n",
              "      <td>male</td>\n",
              "      <td>20.0</td>\n",
              "      <td>0</td>\n",
              "      <td>0</td>\n",
              "      <td>A/5. 2151</td>\n",
              "      <td>8.0500</td>\n",
              "      <td>NaN</td>\n",
              "      <td>S</td>\n",
              "    </tr>\n",
              "    <tr>\n",
              "      <th>13</th>\n",
              "      <td>14</td>\n",
              "      <td>0</td>\n",
              "      <td>3</td>\n",
              "      <td>Andersson, Mr. Anders Johan</td>\n",
              "      <td>male</td>\n",
              "      <td>39.0</td>\n",
              "      <td>1</td>\n",
              "      <td>5</td>\n",
              "      <td>347082</td>\n",
              "      <td>31.2750</td>\n",
              "      <td>NaN</td>\n",
              "      <td>S</td>\n",
              "    </tr>\n",
              "    <tr>\n",
              "      <th>14</th>\n",
              "      <td>15</td>\n",
              "      <td>0</td>\n",
              "      <td>3</td>\n",
              "      <td>Vestrom, Miss. Hulda Amanda Adolfina</td>\n",
              "      <td>female</td>\n",
              "      <td>14.0</td>\n",
              "      <td>0</td>\n",
              "      <td>0</td>\n",
              "      <td>350406</td>\n",
              "      <td>7.8542</td>\n",
              "      <td>NaN</td>\n",
              "      <td>S</td>\n",
              "    </tr>\n",
              "    <tr>\n",
              "      <th>15</th>\n",
              "      <td>16</td>\n",
              "      <td>1</td>\n",
              "      <td>2</td>\n",
              "      <td>Hewlett, Mrs. (Mary D Kingcome)</td>\n",
              "      <td>female</td>\n",
              "      <td>55.0</td>\n",
              "      <td>0</td>\n",
              "      <td>0</td>\n",
              "      <td>248706</td>\n",
              "      <td>16.0000</td>\n",
              "      <td>NaN</td>\n",
              "      <td>S</td>\n",
              "    </tr>\n",
              "    <tr>\n",
              "      <th>16</th>\n",
              "      <td>17</td>\n",
              "      <td>0</td>\n",
              "      <td>3</td>\n",
              "      <td>Rice, Master. Eugene</td>\n",
              "      <td>male</td>\n",
              "      <td>2.0</td>\n",
              "      <td>4</td>\n",
              "      <td>1</td>\n",
              "      <td>382652</td>\n",
              "      <td>29.1250</td>\n",
              "      <td>NaN</td>\n",
              "      <td>Q</td>\n",
              "    </tr>\n",
              "    <tr>\n",
              "      <th>17</th>\n",
              "      <td>18</td>\n",
              "      <td>1</td>\n",
              "      <td>2</td>\n",
              "      <td>Williams, Mr. Charles Eugene</td>\n",
              "      <td>male</td>\n",
              "      <td>NaN</td>\n",
              "      <td>0</td>\n",
              "      <td>0</td>\n",
              "      <td>244373</td>\n",
              "      <td>13.0000</td>\n",
              "      <td>NaN</td>\n",
              "      <td>S</td>\n",
              "    </tr>\n",
              "    <tr>\n",
              "      <th>18</th>\n",
              "      <td>19</td>\n",
              "      <td>0</td>\n",
              "      <td>3</td>\n",
              "      <td>Vander Planke, Mrs. Julius (Emelia Maria Vande...</td>\n",
              "      <td>female</td>\n",
              "      <td>31.0</td>\n",
              "      <td>1</td>\n",
              "      <td>0</td>\n",
              "      <td>345763</td>\n",
              "      <td>18.0000</td>\n",
              "      <td>NaN</td>\n",
              "      <td>S</td>\n",
              "    </tr>\n",
              "    <tr>\n",
              "      <th>19</th>\n",
              "      <td>20</td>\n",
              "      <td>1</td>\n",
              "      <td>3</td>\n",
              "      <td>Masselmani, Mrs. Fatima</td>\n",
              "      <td>female</td>\n",
              "      <td>NaN</td>\n",
              "      <td>0</td>\n",
              "      <td>0</td>\n",
              "      <td>2649</td>\n",
              "      <td>7.2250</td>\n",
              "      <td>NaN</td>\n",
              "      <td>C</td>\n",
              "    </tr>\n",
              "  </tbody>\n",
              "</table>\n",
              "</div>"
            ],
            "text/plain": [
              "    PassengerId  Survived  Pclass  ...     Fare Cabin  Embarked\n",
              "0             1         0       3  ...   7.2500   NaN         S\n",
              "1             2         1       1  ...  71.2833   C85         C\n",
              "2             3         1       3  ...   7.9250   NaN         S\n",
              "3             4         1       1  ...  53.1000  C123         S\n",
              "4             5         0       3  ...   8.0500   NaN         S\n",
              "5             6         0       3  ...   8.4583   NaN         Q\n",
              "6             7         0       1  ...  51.8625   E46         S\n",
              "7             8         0       3  ...  21.0750   NaN         S\n",
              "8             9         1       3  ...  11.1333   NaN         S\n",
              "9            10         1       2  ...  30.0708   NaN         C\n",
              "10           11         1       3  ...  16.7000    G6         S\n",
              "11           12         1       1  ...  26.5500  C103         S\n",
              "12           13         0       3  ...   8.0500   NaN         S\n",
              "13           14         0       3  ...  31.2750   NaN         S\n",
              "14           15         0       3  ...   7.8542   NaN         S\n",
              "15           16         1       2  ...  16.0000   NaN         S\n",
              "16           17         0       3  ...  29.1250   NaN         Q\n",
              "17           18         1       2  ...  13.0000   NaN         S\n",
              "18           19         0       3  ...  18.0000   NaN         S\n",
              "19           20         1       3  ...   7.2250   NaN         C\n",
              "\n",
              "[20 rows x 12 columns]"
            ]
          },
          "metadata": {
            "tags": []
          },
          "execution_count": 7
        }
      ]
    },
    {
      "cell_type": "code",
      "metadata": {
        "colab": {
          "base_uri": "https://localhost:8080/",
          "height": 410
        },
        "id": "ghvOib6Z8t2R",
        "outputId": "8a6f3412-10cd-497d-f8dc-2b8fd446432d"
      },
      "source": [
        "#trainData.replace(np.nan,0)\n",
        "trainData.fillna(0)\n",
        "trainData.head(10)"
      ],
      "execution_count": null,
      "outputs": [
        {
          "output_type": "execute_result",
          "data": {
            "text/html": [
              "<div>\n",
              "<style scoped>\n",
              "    .dataframe tbody tr th:only-of-type {\n",
              "        vertical-align: middle;\n",
              "    }\n",
              "\n",
              "    .dataframe tbody tr th {\n",
              "        vertical-align: top;\n",
              "    }\n",
              "\n",
              "    .dataframe thead th {\n",
              "        text-align: right;\n",
              "    }\n",
              "</style>\n",
              "<table border=\"1\" class=\"dataframe\">\n",
              "  <thead>\n",
              "    <tr style=\"text-align: right;\">\n",
              "      <th></th>\n",
              "      <th>PassengerId</th>\n",
              "      <th>Survived</th>\n",
              "      <th>Pclass</th>\n",
              "      <th>Name</th>\n",
              "      <th>Sex</th>\n",
              "      <th>Age</th>\n",
              "      <th>SibSp</th>\n",
              "      <th>Parch</th>\n",
              "      <th>Ticket</th>\n",
              "      <th>Fare</th>\n",
              "      <th>Cabin</th>\n",
              "      <th>Embarked</th>\n",
              "    </tr>\n",
              "  </thead>\n",
              "  <tbody>\n",
              "    <tr>\n",
              "      <th>0</th>\n",
              "      <td>1</td>\n",
              "      <td>0</td>\n",
              "      <td>3</td>\n",
              "      <td>Braund, Mr. Owen Harris</td>\n",
              "      <td>male</td>\n",
              "      <td>22.0</td>\n",
              "      <td>1</td>\n",
              "      <td>0</td>\n",
              "      <td>A/5 21171</td>\n",
              "      <td>7.2500</td>\n",
              "      <td>NaN</td>\n",
              "      <td>S</td>\n",
              "    </tr>\n",
              "    <tr>\n",
              "      <th>1</th>\n",
              "      <td>2</td>\n",
              "      <td>1</td>\n",
              "      <td>1</td>\n",
              "      <td>Cumings, Mrs. John Bradley (Florence Briggs Th...</td>\n",
              "      <td>female</td>\n",
              "      <td>38.0</td>\n",
              "      <td>1</td>\n",
              "      <td>0</td>\n",
              "      <td>PC 17599</td>\n",
              "      <td>71.2833</td>\n",
              "      <td>C85</td>\n",
              "      <td>C</td>\n",
              "    </tr>\n",
              "    <tr>\n",
              "      <th>2</th>\n",
              "      <td>3</td>\n",
              "      <td>1</td>\n",
              "      <td>3</td>\n",
              "      <td>Heikkinen, Miss. Laina</td>\n",
              "      <td>female</td>\n",
              "      <td>26.0</td>\n",
              "      <td>0</td>\n",
              "      <td>0</td>\n",
              "      <td>STON/O2. 3101282</td>\n",
              "      <td>7.9250</td>\n",
              "      <td>NaN</td>\n",
              "      <td>S</td>\n",
              "    </tr>\n",
              "    <tr>\n",
              "      <th>3</th>\n",
              "      <td>4</td>\n",
              "      <td>1</td>\n",
              "      <td>1</td>\n",
              "      <td>Futrelle, Mrs. Jacques Heath (Lily May Peel)</td>\n",
              "      <td>female</td>\n",
              "      <td>35.0</td>\n",
              "      <td>1</td>\n",
              "      <td>0</td>\n",
              "      <td>113803</td>\n",
              "      <td>53.1000</td>\n",
              "      <td>C123</td>\n",
              "      <td>S</td>\n",
              "    </tr>\n",
              "    <tr>\n",
              "      <th>4</th>\n",
              "      <td>5</td>\n",
              "      <td>0</td>\n",
              "      <td>3</td>\n",
              "      <td>Allen, Mr. William Henry</td>\n",
              "      <td>male</td>\n",
              "      <td>35.0</td>\n",
              "      <td>0</td>\n",
              "      <td>0</td>\n",
              "      <td>373450</td>\n",
              "      <td>8.0500</td>\n",
              "      <td>NaN</td>\n",
              "      <td>S</td>\n",
              "    </tr>\n",
              "    <tr>\n",
              "      <th>5</th>\n",
              "      <td>6</td>\n",
              "      <td>0</td>\n",
              "      <td>3</td>\n",
              "      <td>Moran, Mr. James</td>\n",
              "      <td>male</td>\n",
              "      <td>NaN</td>\n",
              "      <td>0</td>\n",
              "      <td>0</td>\n",
              "      <td>330877</td>\n",
              "      <td>8.4583</td>\n",
              "      <td>NaN</td>\n",
              "      <td>Q</td>\n",
              "    </tr>\n",
              "    <tr>\n",
              "      <th>6</th>\n",
              "      <td>7</td>\n",
              "      <td>0</td>\n",
              "      <td>1</td>\n",
              "      <td>McCarthy, Mr. Timothy J</td>\n",
              "      <td>male</td>\n",
              "      <td>54.0</td>\n",
              "      <td>0</td>\n",
              "      <td>0</td>\n",
              "      <td>17463</td>\n",
              "      <td>51.8625</td>\n",
              "      <td>E46</td>\n",
              "      <td>S</td>\n",
              "    </tr>\n",
              "    <tr>\n",
              "      <th>7</th>\n",
              "      <td>8</td>\n",
              "      <td>0</td>\n",
              "      <td>3</td>\n",
              "      <td>Palsson, Master. Gosta Leonard</td>\n",
              "      <td>male</td>\n",
              "      <td>2.0</td>\n",
              "      <td>3</td>\n",
              "      <td>1</td>\n",
              "      <td>349909</td>\n",
              "      <td>21.0750</td>\n",
              "      <td>NaN</td>\n",
              "      <td>S</td>\n",
              "    </tr>\n",
              "    <tr>\n",
              "      <th>8</th>\n",
              "      <td>9</td>\n",
              "      <td>1</td>\n",
              "      <td>3</td>\n",
              "      <td>Johnson, Mrs. Oscar W (Elisabeth Vilhelmina Berg)</td>\n",
              "      <td>female</td>\n",
              "      <td>27.0</td>\n",
              "      <td>0</td>\n",
              "      <td>2</td>\n",
              "      <td>347742</td>\n",
              "      <td>11.1333</td>\n",
              "      <td>NaN</td>\n",
              "      <td>S</td>\n",
              "    </tr>\n",
              "    <tr>\n",
              "      <th>9</th>\n",
              "      <td>10</td>\n",
              "      <td>1</td>\n",
              "      <td>2</td>\n",
              "      <td>Nasser, Mrs. Nicholas (Adele Achem)</td>\n",
              "      <td>female</td>\n",
              "      <td>14.0</td>\n",
              "      <td>1</td>\n",
              "      <td>0</td>\n",
              "      <td>237736</td>\n",
              "      <td>30.0708</td>\n",
              "      <td>NaN</td>\n",
              "      <td>C</td>\n",
              "    </tr>\n",
              "  </tbody>\n",
              "</table>\n",
              "</div>"
            ],
            "text/plain": [
              "   PassengerId  Survived  Pclass  ...     Fare Cabin  Embarked\n",
              "0            1         0       3  ...   7.2500   NaN         S\n",
              "1            2         1       1  ...  71.2833   C85         C\n",
              "2            3         1       3  ...   7.9250   NaN         S\n",
              "3            4         1       1  ...  53.1000  C123         S\n",
              "4            5         0       3  ...   8.0500   NaN         S\n",
              "5            6         0       3  ...   8.4583   NaN         Q\n",
              "6            7         0       1  ...  51.8625   E46         S\n",
              "7            8         0       3  ...  21.0750   NaN         S\n",
              "8            9         1       3  ...  11.1333   NaN         S\n",
              "9           10         1       2  ...  30.0708   NaN         C\n",
              "\n",
              "[10 rows x 12 columns]"
            ]
          },
          "metadata": {
            "tags": []
          },
          "execution_count": 8
        }
      ]
    },
    {
      "cell_type": "code",
      "metadata": {
        "colab": {
          "base_uri": "https://localhost:8080/"
        },
        "id": "yc-ogGqmDVFd",
        "outputId": "ae86a300-b6df-4ac8-bd1b-b4f5285207b8"
      },
      "source": [
        "for i in trainData:\n",
        "  print(i)"
      ],
      "execution_count": null,
      "outputs": [
        {
          "output_type": "stream",
          "text": [
            "PassengerId\n",
            "Survived\n",
            "Pclass\n",
            "Name\n",
            "Sex\n",
            "Age\n",
            "SibSp\n",
            "Parch\n",
            "Ticket\n",
            "Fare\n",
            "Cabin\n",
            "Embarked\n"
          ],
          "name": "stdout"
        }
      ]
    },
    {
      "cell_type": "code",
      "metadata": {
        "colab": {
          "base_uri": "https://localhost:8080/"
        },
        "id": "TXzzif8zDyqe",
        "outputId": "60f7e1e2-a074-41d7-93ed-2cb3ee07189f"
      },
      "source": [
        "print(f'Pclass: {trainData.Pclass.unique()}')\n",
        "print(f'Sex: {trainData.Sex.unique()}')\n",
        "print(f'SibSp: {trainData.SibSp.unique()}') # siblings or spouse\n",
        "print(f'Parch: {trainData.Parch.unique()}') # Parents or Children\n",
        "print(f'Embarked: {trainData.Embarked.unique()}')\n",
        "#print(f'guardian: {trainData.guardian.unique()}')"
      ],
      "execution_count": null,
      "outputs": [
        {
          "output_type": "stream",
          "text": [
            "Pclass: [3 1 2]\n",
            "Sex: ['male' 'female']\n",
            "SibSp: [1 0 3 4 2 5 8]\n",
            "Parch: [0 1 2 5 3 4 6]\n",
            "Embarked: ['S' 'C' 'Q' nan]\n"
          ],
          "name": "stdout"
        }
      ]
    },
    {
      "cell_type": "code",
      "metadata": {
        "colab": {
          "base_uri": "https://localhost:8080/",
          "height": 359
        },
        "id": "vSVluT1JEhMI",
        "outputId": "f1c4a6ff-518d-4f35-e7de-8fbc08829b7a"
      },
      "source": [
        "#Converting numeric to categorical\n",
        "\n",
        "trainData['Sex'] = trainData['Sex'].apply({'male':1, 'female':0}.get)\n",
        "trainData['Embarked'] = trainData['Embarked'].apply({'S':1, 'C':2, 'Q':3, np.nan:0}.get)\n",
        "trainData.head(10)"
      ],
      "execution_count": null,
      "outputs": [
        {
          "output_type": "execute_result",
          "data": {
            "text/html": [
              "<div>\n",
              "<style scoped>\n",
              "    .dataframe tbody tr th:only-of-type {\n",
              "        vertical-align: middle;\n",
              "    }\n",
              "\n",
              "    .dataframe tbody tr th {\n",
              "        vertical-align: top;\n",
              "    }\n",
              "\n",
              "    .dataframe thead th {\n",
              "        text-align: right;\n",
              "    }\n",
              "</style>\n",
              "<table border=\"1\" class=\"dataframe\">\n",
              "  <thead>\n",
              "    <tr style=\"text-align: right;\">\n",
              "      <th></th>\n",
              "      <th>PassengerId</th>\n",
              "      <th>Survived</th>\n",
              "      <th>Pclass</th>\n",
              "      <th>Name</th>\n",
              "      <th>Sex</th>\n",
              "      <th>Age</th>\n",
              "      <th>SibSp</th>\n",
              "      <th>Parch</th>\n",
              "      <th>Ticket</th>\n",
              "      <th>Fare</th>\n",
              "      <th>Cabin</th>\n",
              "      <th>Embarked</th>\n",
              "    </tr>\n",
              "  </thead>\n",
              "  <tbody>\n",
              "    <tr>\n",
              "      <th>0</th>\n",
              "      <td>1</td>\n",
              "      <td>0</td>\n",
              "      <td>3</td>\n",
              "      <td>Braund, Mr. Owen Harris</td>\n",
              "      <td>1</td>\n",
              "      <td>22.0</td>\n",
              "      <td>1</td>\n",
              "      <td>0</td>\n",
              "      <td>A/5 21171</td>\n",
              "      <td>7.2500</td>\n",
              "      <td>NaN</td>\n",
              "      <td>1</td>\n",
              "    </tr>\n",
              "    <tr>\n",
              "      <th>1</th>\n",
              "      <td>2</td>\n",
              "      <td>1</td>\n",
              "      <td>1</td>\n",
              "      <td>Cumings, Mrs. John Bradley (Florence Briggs Th...</td>\n",
              "      <td>0</td>\n",
              "      <td>38.0</td>\n",
              "      <td>1</td>\n",
              "      <td>0</td>\n",
              "      <td>PC 17599</td>\n",
              "      <td>71.2833</td>\n",
              "      <td>C85</td>\n",
              "      <td>2</td>\n",
              "    </tr>\n",
              "    <tr>\n",
              "      <th>2</th>\n",
              "      <td>3</td>\n",
              "      <td>1</td>\n",
              "      <td>3</td>\n",
              "      <td>Heikkinen, Miss. Laina</td>\n",
              "      <td>0</td>\n",
              "      <td>26.0</td>\n",
              "      <td>0</td>\n",
              "      <td>0</td>\n",
              "      <td>STON/O2. 3101282</td>\n",
              "      <td>7.9250</td>\n",
              "      <td>NaN</td>\n",
              "      <td>1</td>\n",
              "    </tr>\n",
              "    <tr>\n",
              "      <th>3</th>\n",
              "      <td>4</td>\n",
              "      <td>1</td>\n",
              "      <td>1</td>\n",
              "      <td>Futrelle, Mrs. Jacques Heath (Lily May Peel)</td>\n",
              "      <td>0</td>\n",
              "      <td>35.0</td>\n",
              "      <td>1</td>\n",
              "      <td>0</td>\n",
              "      <td>113803</td>\n",
              "      <td>53.1000</td>\n",
              "      <td>C123</td>\n",
              "      <td>1</td>\n",
              "    </tr>\n",
              "    <tr>\n",
              "      <th>4</th>\n",
              "      <td>5</td>\n",
              "      <td>0</td>\n",
              "      <td>3</td>\n",
              "      <td>Allen, Mr. William Henry</td>\n",
              "      <td>1</td>\n",
              "      <td>35.0</td>\n",
              "      <td>0</td>\n",
              "      <td>0</td>\n",
              "      <td>373450</td>\n",
              "      <td>8.0500</td>\n",
              "      <td>NaN</td>\n",
              "      <td>1</td>\n",
              "    </tr>\n",
              "    <tr>\n",
              "      <th>5</th>\n",
              "      <td>6</td>\n",
              "      <td>0</td>\n",
              "      <td>3</td>\n",
              "      <td>Moran, Mr. James</td>\n",
              "      <td>1</td>\n",
              "      <td>NaN</td>\n",
              "      <td>0</td>\n",
              "      <td>0</td>\n",
              "      <td>330877</td>\n",
              "      <td>8.4583</td>\n",
              "      <td>NaN</td>\n",
              "      <td>3</td>\n",
              "    </tr>\n",
              "    <tr>\n",
              "      <th>6</th>\n",
              "      <td>7</td>\n",
              "      <td>0</td>\n",
              "      <td>1</td>\n",
              "      <td>McCarthy, Mr. Timothy J</td>\n",
              "      <td>1</td>\n",
              "      <td>54.0</td>\n",
              "      <td>0</td>\n",
              "      <td>0</td>\n",
              "      <td>17463</td>\n",
              "      <td>51.8625</td>\n",
              "      <td>E46</td>\n",
              "      <td>1</td>\n",
              "    </tr>\n",
              "    <tr>\n",
              "      <th>7</th>\n",
              "      <td>8</td>\n",
              "      <td>0</td>\n",
              "      <td>3</td>\n",
              "      <td>Palsson, Master. Gosta Leonard</td>\n",
              "      <td>1</td>\n",
              "      <td>2.0</td>\n",
              "      <td>3</td>\n",
              "      <td>1</td>\n",
              "      <td>349909</td>\n",
              "      <td>21.0750</td>\n",
              "      <td>NaN</td>\n",
              "      <td>1</td>\n",
              "    </tr>\n",
              "    <tr>\n",
              "      <th>8</th>\n",
              "      <td>9</td>\n",
              "      <td>1</td>\n",
              "      <td>3</td>\n",
              "      <td>Johnson, Mrs. Oscar W (Elisabeth Vilhelmina Berg)</td>\n",
              "      <td>0</td>\n",
              "      <td>27.0</td>\n",
              "      <td>0</td>\n",
              "      <td>2</td>\n",
              "      <td>347742</td>\n",
              "      <td>11.1333</td>\n",
              "      <td>NaN</td>\n",
              "      <td>1</td>\n",
              "    </tr>\n",
              "    <tr>\n",
              "      <th>9</th>\n",
              "      <td>10</td>\n",
              "      <td>1</td>\n",
              "      <td>2</td>\n",
              "      <td>Nasser, Mrs. Nicholas (Adele Achem)</td>\n",
              "      <td>0</td>\n",
              "      <td>14.0</td>\n",
              "      <td>1</td>\n",
              "      <td>0</td>\n",
              "      <td>237736</td>\n",
              "      <td>30.0708</td>\n",
              "      <td>NaN</td>\n",
              "      <td>2</td>\n",
              "    </tr>\n",
              "  </tbody>\n",
              "</table>\n",
              "</div>"
            ],
            "text/plain": [
              "   PassengerId  Survived  Pclass  ...     Fare  Cabin  Embarked\n",
              "0            1         0       3  ...   7.2500    NaN         1\n",
              "1            2         1       1  ...  71.2833    C85         2\n",
              "2            3         1       3  ...   7.9250    NaN         1\n",
              "3            4         1       1  ...  53.1000   C123         1\n",
              "4            5         0       3  ...   8.0500    NaN         1\n",
              "5            6         0       3  ...   8.4583    NaN         3\n",
              "6            7         0       1  ...  51.8625    E46         1\n",
              "7            8         0       3  ...  21.0750    NaN         1\n",
              "8            9         1       3  ...  11.1333    NaN         1\n",
              "9           10         1       2  ...  30.0708    NaN         2\n",
              "\n",
              "[10 rows x 12 columns]"
            ]
          },
          "metadata": {
            "tags": []
          },
          "execution_count": 11
        }
      ]
    },
    {
      "cell_type": "code",
      "metadata": {
        "colab": {
          "base_uri": "https://localhost:8080/",
          "height": 359
        },
        "id": "sOORYfbJIBzF",
        "outputId": "58fdd667-1618-433a-e7f7-71a5d265c348"
      },
      "source": [
        "trainData_updated = trainData[['Pclass', 'Sex', 'SibSp', 'Parch', 'Fare', 'Embarked', 'Survived']]\n",
        "trainData_updated.head(10)"
      ],
      "execution_count": null,
      "outputs": [
        {
          "output_type": "execute_result",
          "data": {
            "text/html": [
              "<div>\n",
              "<style scoped>\n",
              "    .dataframe tbody tr th:only-of-type {\n",
              "        vertical-align: middle;\n",
              "    }\n",
              "\n",
              "    .dataframe tbody tr th {\n",
              "        vertical-align: top;\n",
              "    }\n",
              "\n",
              "    .dataframe thead th {\n",
              "        text-align: right;\n",
              "    }\n",
              "</style>\n",
              "<table border=\"1\" class=\"dataframe\">\n",
              "  <thead>\n",
              "    <tr style=\"text-align: right;\">\n",
              "      <th></th>\n",
              "      <th>Pclass</th>\n",
              "      <th>Sex</th>\n",
              "      <th>SibSp</th>\n",
              "      <th>Parch</th>\n",
              "      <th>Fare</th>\n",
              "      <th>Embarked</th>\n",
              "      <th>Survived</th>\n",
              "    </tr>\n",
              "  </thead>\n",
              "  <tbody>\n",
              "    <tr>\n",
              "      <th>0</th>\n",
              "      <td>3</td>\n",
              "      <td>1</td>\n",
              "      <td>1</td>\n",
              "      <td>0</td>\n",
              "      <td>7.2500</td>\n",
              "      <td>1</td>\n",
              "      <td>0</td>\n",
              "    </tr>\n",
              "    <tr>\n",
              "      <th>1</th>\n",
              "      <td>1</td>\n",
              "      <td>0</td>\n",
              "      <td>1</td>\n",
              "      <td>0</td>\n",
              "      <td>71.2833</td>\n",
              "      <td>2</td>\n",
              "      <td>1</td>\n",
              "    </tr>\n",
              "    <tr>\n",
              "      <th>2</th>\n",
              "      <td>3</td>\n",
              "      <td>0</td>\n",
              "      <td>0</td>\n",
              "      <td>0</td>\n",
              "      <td>7.9250</td>\n",
              "      <td>1</td>\n",
              "      <td>1</td>\n",
              "    </tr>\n",
              "    <tr>\n",
              "      <th>3</th>\n",
              "      <td>1</td>\n",
              "      <td>0</td>\n",
              "      <td>1</td>\n",
              "      <td>0</td>\n",
              "      <td>53.1000</td>\n",
              "      <td>1</td>\n",
              "      <td>1</td>\n",
              "    </tr>\n",
              "    <tr>\n",
              "      <th>4</th>\n",
              "      <td>3</td>\n",
              "      <td>1</td>\n",
              "      <td>0</td>\n",
              "      <td>0</td>\n",
              "      <td>8.0500</td>\n",
              "      <td>1</td>\n",
              "      <td>0</td>\n",
              "    </tr>\n",
              "    <tr>\n",
              "      <th>5</th>\n",
              "      <td>3</td>\n",
              "      <td>1</td>\n",
              "      <td>0</td>\n",
              "      <td>0</td>\n",
              "      <td>8.4583</td>\n",
              "      <td>3</td>\n",
              "      <td>0</td>\n",
              "    </tr>\n",
              "    <tr>\n",
              "      <th>6</th>\n",
              "      <td>1</td>\n",
              "      <td>1</td>\n",
              "      <td>0</td>\n",
              "      <td>0</td>\n",
              "      <td>51.8625</td>\n",
              "      <td>1</td>\n",
              "      <td>0</td>\n",
              "    </tr>\n",
              "    <tr>\n",
              "      <th>7</th>\n",
              "      <td>3</td>\n",
              "      <td>1</td>\n",
              "      <td>3</td>\n",
              "      <td>1</td>\n",
              "      <td>21.0750</td>\n",
              "      <td>1</td>\n",
              "      <td>0</td>\n",
              "    </tr>\n",
              "    <tr>\n",
              "      <th>8</th>\n",
              "      <td>3</td>\n",
              "      <td>0</td>\n",
              "      <td>0</td>\n",
              "      <td>2</td>\n",
              "      <td>11.1333</td>\n",
              "      <td>1</td>\n",
              "      <td>1</td>\n",
              "    </tr>\n",
              "    <tr>\n",
              "      <th>9</th>\n",
              "      <td>2</td>\n",
              "      <td>0</td>\n",
              "      <td>1</td>\n",
              "      <td>0</td>\n",
              "      <td>30.0708</td>\n",
              "      <td>2</td>\n",
              "      <td>1</td>\n",
              "    </tr>\n",
              "  </tbody>\n",
              "</table>\n",
              "</div>"
            ],
            "text/plain": [
              "   Pclass  Sex  SibSp  Parch     Fare  Embarked  Survived\n",
              "0       3    1      1      0   7.2500         1         0\n",
              "1       1    0      1      0  71.2833         2         1\n",
              "2       3    0      0      0   7.9250         1         1\n",
              "3       1    0      1      0  53.1000         1         1\n",
              "4       3    1      0      0   8.0500         1         0\n",
              "5       3    1      0      0   8.4583         3         0\n",
              "6       1    1      0      0  51.8625         1         0\n",
              "7       3    1      3      1  21.0750         1         0\n",
              "8       3    0      0      2  11.1333         1         1\n",
              "9       2    0      1      0  30.0708         2         1"
            ]
          },
          "metadata": {
            "tags": []
          },
          "execution_count": 12
        }
      ]
    },
    {
      "cell_type": "code",
      "metadata": {
        "id": "724vsu0TH5oT"
      },
      "source": [
        "#trainData_updated.to_csv('updatedTrainData.csv')"
      ],
      "execution_count": null,
      "outputs": []
    },
    {
      "cell_type": "code",
      "metadata": {
        "colab": {
          "base_uri": "https://localhost:8080/",
          "height": 157
        },
        "id": "SqIM2gnu1DBR",
        "outputId": "ae6986b1-4170-4642-c015-47aa0d8a3f81"
      },
      "source": [
        "#To visualize our results \n",
        "\n",
        "import matplotlib.pyplot as plt\n",
        "import seaborn as sns\n",
        "sns.palplot(sns.color_palette(\"PuOr\"))\n",
        "pal = sns.color_palette('PuOr', 6)\n",
        "pal.as_hex()\n",
        "plt.style.use(['seaborn'])\n",
        "sns_colors = [\"#c6690c\", \"#664697\"]\n",
        "sns.set_palette(sns_colors)\n",
        "sns.palplot(sns.color_palette(sns_colors))"
      ],
      "execution_count": null,
      "outputs": [
        {
          "output_type": "display_data",
          "data": {
            "image/png": "[encoded data removed]",
            "text/plain": [
              "<Figure size 432x72 with 1 Axes>"
            ]
          },
          "metadata": {
            "tags": [],
            "needs_background": "light"
          }
        },
        {
          "output_type": "display_data",
          "data": {
            "image/png": "[encoded data removed]",
            "text/plain": [
              "<Figure size 144x72 with 1 Axes>"
            ]
          },
          "metadata": {
            "tags": []
          }
        }
      ]
    },
    {
      "cell_type": "markdown",
      "metadata": {
        "id": "bGHVyxhHIPAY"
      },
      "source": [
        "## EDA"
      ]
    },
    {
      "cell_type": "code",
      "metadata": {
        "colab": {
          "base_uri": "https://localhost:8080/"
        },
        "id": "uGc4RLbEITev",
        "outputId": "d97306e1-a34f-4e9e-8094-f699eb818ccb"
      },
      "source": [
        "print(trainData_updated.columns)"
      ],
      "execution_count": null,
      "outputs": [
        {
          "output_type": "stream",
          "text": [
            "Index(['Pclass', 'Sex', 'SibSp', 'Parch', 'Fare', 'Embarked', 'Survived'], dtype='object')\n"
          ],
          "name": "stdout"
        }
      ]
    },
    {
      "cell_type": "code",
      "metadata": {
        "colab": {
          "base_uri": "https://localhost:8080/",
          "height": 1000
        },
        "id": "w9EsgN_MIL2G",
        "outputId": "bf5f2981-3988-4d2b-d480-505a8710eb94"
      },
      "source": [
        "sns.pairplot(trainData_updated,\n",
        "             x_vars=['Pclass', 'Sex', 'SibSp', 'Parch', 'Fare', 'Embarked'],\n",
        "             y_vars=['Pclass', 'Sex', 'SibSp', 'Parch', 'Fare', 'Embarked'],\n",
        "             hue='Survived', diag_kind='kde')"
      ],
      "execution_count": null,
      "outputs": [
        {
          "output_type": "execute_result",
          "data": {
            "text/plain": [
              "<seaborn.axisgrid.PairGrid at 0x7f1bac72cd90>"
            ]
          },
          "metadata": {
            "tags": []
          },
          "execution_count": 110
        },
        {
          "output_type": "display_data",
          "data": {
            "image/png": "[encoded data removed]",
            "text/plain": [
              "<Figure size 1126.75x1080 with 42 Axes>"
            ]
          },
          "metadata": {
            "tags": []
          }
        }
      ]
    },
    {
      "cell_type": "code",
      "metadata": {
        "colab": {
          "base_uri": "https://localhost:8080/"
        },
        "id": "8Bl8LwIc-neB",
        "outputId": "e05f3d70-0c6a-4867-a31c-b4a49facabf1"
      },
      "source": [
        "trainData_updated.columns"
      ],
      "execution_count": null,
      "outputs": [
        {
          "output_type": "execute_result",
          "data": {
            "text/plain": [
              "Index(['Pclass', 'Sex', 'SibSp', 'Parch', 'Fare', 'Embarked', 'Survived'], dtype='object')"
            ]
          },
          "metadata": {
            "tags": []
          },
          "execution_count": 16
        }
      ]
    },
    {
      "cell_type": "code",
      "metadata": {
        "colab": {
          "base_uri": "https://localhost:8080/",
          "height": 1000
        },
        "id": "PGONpH29I6D3",
        "outputId": "76c9e18e-fede-435a-c7c7-caeba3e41cdc"
      },
      "source": [
        "#strip plot\n",
        "\n",
        "fig, axarr = plt.subplots(2, 2, figsize=(20, 20))\n",
        "sns.stripplot(y='SibSp',x='Survived', data=trainData_updated, hue=None, ax=axarr[0][0])\n",
        "sns.stripplot(y='Parch',x='Survived', data=trainData_updated, hue=None, ax=axarr[0][1])\n",
        "sns.stripplot(y='Pclass',x='Survived', data=trainData_updated, hue=None, ax=axarr[1][0])\n",
        "sns.stripplot(y='Sex',x='Survived', data=trainData_updated, hue=None, ax=axarr[1][1])"
      ],
      "execution_count": null,
      "outputs": [
        {
          "output_type": "execute_result",
          "data": {
            "text/plain": [
              "<matplotlib.axes._subplots.AxesSubplot at 0x7f371cc3e150>"
            ]
          },
          "metadata": {
            "tags": []
          },
          "execution_count": 18
        },
        {
          "output_type": "display_data",
          "data": {
            "image/png": "[encoded data removed]",
            "text/plain": [
              "<Figure size 1440x1440 with 4 Axes>"
            ]
          },
          "metadata": {
            "tags": []
          }
        }
      ]
    },
    {
      "cell_type": "markdown",
      "metadata": {
        "id": "6V9LKY_lI4R9"
      },
      "source": [
        "## Data split"
      ]
    },
    {
      "cell_type": "code",
      "metadata": {
        "id": "ajN6B7H9JEGl"
      },
      "source": [
        "trainDataset = trainData_updated.sample(frac=0.8, random_state=0)\n",
        "testDataset = trainData_updated.drop(trainDataset.index)"
      ],
      "execution_count": null,
      "outputs": []
    },
    {
      "cell_type": "code",
      "metadata": {
        "colab": {
          "base_uri": "https://localhost:8080/"
        },
        "id": "25jl13J-hiw2",
        "outputId": "f4168e8b-ca9b-49b1-e0be-6da830bc420d"
      },
      "source": [
        "print(trainDataset.shape)\n",
        "print(testDataset.shape)\n",
        "print(trainDataset.head())\n",
        "print(testDataset.head())"
      ],
      "execution_count": null,
      "outputs": [
        {
          "output_type": "stream",
          "text": [
            "(713, 7)\n",
            "(178, 7)\n",
            "     Survived  Pclass  Sex  SibSp  Parch      Fare  Embarked\n",
            "495         0       3    1      0      0   14.4583         2\n",
            "648         0       3    1      0      0    7.5500         1\n",
            "278         0       3    1      4      1   29.1250         3\n",
            "31          1       1    0      1      0  146.5208         2\n",
            "255         1       3    0      0      2   15.2458         2\n",
            "    Survived  Pclass  Sex  SibSp  Parch     Fare  Embarked\n",
            "9          1       2    0      1      0  30.0708         2\n",
            "11         1       1    0      0      0  26.5500         1\n",
            "19         1       3    0      0      0   7.2250         2\n",
            "23         1       1    1      0      0  35.5000         1\n",
            "28         1       3    0      0      0   7.8792         3\n"
          ],
          "name": "stdout"
        }
      ]
    },
    {
      "cell_type": "code",
      "metadata": {
        "colab": {
          "base_uri": "https://localhost:8080/"
        },
        "id": "yYH44_8ghrhj",
        "outputId": "a7fb7464-246c-428a-87be-d1fba58d125f"
      },
      "source": [
        "trainFeatures = trainDataset.copy()\n",
        "testFeaturelas = testDataset.copy()\n",
        "\n",
        "print(trainFeatures.head())\n",
        "print(testFeatures.head())"
      ],
      "execution_count": null,
      "outputs": [
        {
          "output_type": "stream",
          "text": [
            "     Survived  Pclass  Sex  SibSp  Parch      Fare  Embarked\n",
            "495         0       3    1      0      0   14.4583         2\n",
            "648         0       3    1      0      0    7.5500         1\n",
            "278         0       3    1      4      1   29.1250         3\n",
            "31          1       1    0      1      0  146.5208         2\n",
            "255         1       3    0      0      2   15.2458         2\n",
            "    Survived  Pclass  Sex  SibSp  Parch     Fare  Embarked\n",
            "9          1       2    0      1      0  30.0708         2\n",
            "11         1       1    0      0      0  26.5500         1\n",
            "19         1       3    0      0      0   7.2250         2\n",
            "23         1       1    1      0      0  35.5000         1\n",
            "28         1       3    0      0      0   7.8792         3\n"
          ],
          "name": "stdout"
        }
      ]
    },
    {
      "cell_type": "code",
      "metadata": {
        "colab": {
          "base_uri": "https://localhost:8080/"
        },
        "id": "1yREEzswczop",
        "outputId": "7f5fe03f-a886-491b-f5ba-ceba144a7634"
      },
      "source": [
        "trainLabels = trainFeatures.pop('Survived')\n",
        "testLabels = testFeatures.pop('Survived')\n",
        "\n",
        "print(trainLabels.head())\n",
        "print(testLabels.head())"
      ],
      "execution_count": null,
      "outputs": [
        {
          "output_type": "stream",
          "text": [
            "495    0\n",
            "648    0\n",
            "278    0\n",
            "31     1\n",
            "255    1\n",
            "Name: Survived, dtype: int64\n",
            "9     1\n",
            "11    1\n",
            "19    1\n",
            "23    1\n",
            "28    1\n",
            "Name: Survived, dtype: int64\n"
          ],
          "name": "stdout"
        }
      ]
    },
    {
      "cell_type": "code",
      "metadata": {
        "colab": {
          "base_uri": "https://localhost:8080/"
        },
        "id": "uFrUsA9AbogB",
        "outputId": "f707c5cd-8ce0-4a36-c14c-62a5a15333c0"
      },
      "source": [
        "print(trainFeatures.head())\n",
        "print(testFeatures.head())"
      ],
      "execution_count": null,
      "outputs": [
        {
          "output_type": "stream",
          "text": [
            "     Pclass  Sex  SibSp  Parch      Fare  Embarked\n",
            "495       3    1      0      0   14.4583         2\n",
            "648       3    1      0      0    7.5500         1\n",
            "278       3    1      4      1   29.1250         3\n",
            "31        1    0      1      0  146.5208         2\n",
            "255       3    0      0      2   15.2458         2\n",
            "    Pclass  Sex  SibSp  Parch     Fare  Embarked\n",
            "9        2    0      1      0  30.0708         2\n",
            "11       1    0      0      0  26.5500         1\n",
            "19       3    0      0      0   7.2250         2\n",
            "23       1    1      0      0  35.5000         1\n",
            "28       3    0      0      0   7.8792         3\n"
          ],
          "name": "stdout"
        }
      ]
    },
    {
      "cell_type": "markdown",
      "metadata": {
        "id": "UqMsx2a80zYN"
      },
      "source": [
        "## Problem Statement"
      ]
    },
    {
      "cell_type": "markdown",
      "metadata": {
        "id": "paIAmWv900Gp"
      },
      "source": [
        "Create a classification model to predict the survival rate."
      ]
    },
    {
      "cell_type": "code",
      "metadata": {
        "colab": {
          "base_uri": "https://localhost:8080/"
        },
        "id": "42dPuDNtdSHq",
        "outputId": "1dc720ee-1171-4790-c4bc-5f5c3fe36153"
      },
      "source": [
        "print(len(trainFeatures.columns))"
      ],
      "execution_count": null,
      "outputs": [
        {
          "output_type": "stream",
          "text": [
            "6\n"
          ],
          "name": "stdout"
        }
      ]
    },
    {
      "cell_type": "code",
      "metadata": {
        "colab": {
          "base_uri": "https://localhost:8080/"
        },
        "id": "Q_FbJ7ze_MQu",
        "outputId": "b3d92351-64eb-4b66-bf19-f4331d760603"
      },
      "source": [
        "import math\n",
        "numFeatures = len(trainFeatures.columns)\n",
        "inputNeurons = math.ceil(2*(numFeatures)/3)\n",
        "print(inputNeurons)"
      ],
      "execution_count": null,
      "outputs": [
        {
          "output_type": "stream",
          "text": [
            "4\n"
          ],
          "name": "stdout"
        }
      ]
    },
    {
      "cell_type": "code",
      "metadata": {
        "id": "QLKoCJnYdEQX"
      },
      "source": [
        "# ---- Model-1 ----\n",
        "model = tf.keras.Sequential([\n",
        "                             tf.keras.layers.Dense(units = inputNeurons, activation = 'relu'),\n",
        "                             tf.keras.layers.Dense(units = 2*inputNeurons, activation='relu'),\n",
        "                             tf.keras.layers.Dense(1, activation='sigmoid')\n",
        "])"
      ],
      "execution_count": null,
      "outputs": []
    },
    {
      "cell_type": "code",
      "metadata": {
        "id": "Vjl68Uh3dgzS"
      },
      "source": [
        "model.compile(optimizer=tf.keras.optimizers.RMSprop(lr=0.001), loss='binary_crossentropy', metrics=['accuracy'])"
      ],
      "execution_count": null,
      "outputs": []
    },
    {
      "cell_type": "code",
      "metadata": {
        "id": "w4qMKpgIdrto"
      },
      "source": [
        "early_stopping = tf.keras.callbacks.EarlyStopping(monitor='val_loss', patience=100)"
      ],
      "execution_count": null,
      "outputs": []
    },
    {
      "cell_type": "code",
      "metadata": {
        "colab": {
          "base_uri": "https://localhost:8080/"
        },
        "id": "tbEQffOxdix3",
        "outputId": "0f3ee49b-0edf-400a-f0c5-b455ee60ef7c"
      },
      "source": [
        "numEpochs = 100\n",
        "#history = model.fit(trainFeatures, trainLabels, epochs=numEpochs,validation_data=(testFeatures,testLabels),callbacks=[early_stopping])\n",
        "history = model.fit(trainFeatures, trainLabels, epochs=numEpochs,validation_data=(testFeatures,testLabels))"
      ],
      "execution_count": null,
      "outputs": [
        {
          "output_type": "stream",
          "text": [
            "Epoch 1/100\n",
            "23/23 [==============================] - 1s 10ms/step - loss: 5.4891 - accuracy: 0.6198 - val_loss: 5.1043 - val_accuracy: 0.5337\n",
            "Epoch 2/100\n",
            "23/23 [==============================] - 0s 3ms/step - loss: 4.5122 - accuracy: 0.6348 - val_loss: 3.8726 - val_accuracy: 0.5337\n",
            "Epoch 3/100\n",
            "23/23 [==============================] - 0s 3ms/step - loss: 3.3277 - accuracy: 0.6108 - val_loss: 2.7623 - val_accuracy: 0.5337\n",
            "Epoch 4/100\n",
            "23/23 [==============================] - 0s 3ms/step - loss: 2.6009 - accuracy: 0.6160 - val_loss: 1.9618 - val_accuracy: 0.5337\n",
            "Epoch 5/100\n",
            "23/23 [==============================] - 0s 3ms/step - loss: 1.8203 - accuracy: 0.5851 - val_loss: 1.1482 - val_accuracy: 0.3876\n",
            "Epoch 6/100\n",
            "23/23 [==============================] - 0s 3ms/step - loss: 1.0456 - accuracy: 0.3454 - val_loss: 0.7873 - val_accuracy: 0.3483\n",
            "Epoch 7/100\n",
            "23/23 [==============================] - 0s 4ms/step - loss: 0.7788 - accuracy: 0.3257 - val_loss: 0.7533 - val_accuracy: 0.4157\n",
            "Epoch 8/100\n",
            "23/23 [==============================] - 0s 3ms/step - loss: 0.7505 - accuracy: 0.3541 - val_loss: 0.7417 - val_accuracy: 0.3652\n",
            "Epoch 9/100\n",
            "23/23 [==============================] - 0s 3ms/step - loss: 0.7330 - accuracy: 0.3471 - val_loss: 0.7270 - val_accuracy: 0.4270\n",
            "Epoch 10/100\n",
            "23/23 [==============================] - 0s 3ms/step - loss: 0.7141 - accuracy: 0.4978 - val_loss: 0.7511 - val_accuracy: 0.5056\n",
            "Epoch 11/100\n",
            "23/23 [==============================] - 0s 3ms/step - loss: 0.6951 - accuracy: 0.6471 - val_loss: 0.7278 - val_accuracy: 0.5618\n",
            "Epoch 12/100\n",
            "23/23 [==============================] - 0s 4ms/step - loss: 0.6921 - accuracy: 0.6147 - val_loss: 0.7067 - val_accuracy: 0.5618\n",
            "Epoch 13/100\n",
            "23/23 [==============================] - 0s 3ms/step - loss: 0.6799 - accuracy: 0.6557 - val_loss: 0.7060 - val_accuracy: 0.5955\n",
            "Epoch 14/100\n",
            "23/23 [==============================] - 0s 3ms/step - loss: 0.6778 - accuracy: 0.6345 - val_loss: 0.6981 - val_accuracy: 0.6011\n",
            "Epoch 15/100\n",
            "23/23 [==============================] - 0s 3ms/step - loss: 0.6698 - accuracy: 0.6383 - val_loss: 0.6955 - val_accuracy: 0.6011\n",
            "Epoch 16/100\n",
            "23/23 [==============================] - 0s 3ms/step - loss: 0.6359 - accuracy: 0.6723 - val_loss: 0.7477 - val_accuracy: 0.5449\n",
            "Epoch 17/100\n",
            "23/23 [==============================] - 0s 3ms/step - loss: 0.6773 - accuracy: 0.6385 - val_loss: 0.6950 - val_accuracy: 0.6180\n",
            "Epoch 18/100\n",
            "23/23 [==============================] - 0s 3ms/step - loss: 0.6605 - accuracy: 0.6611 - val_loss: 0.6914 - val_accuracy: 0.6180\n",
            "Epoch 19/100\n",
            "23/23 [==============================] - 0s 3ms/step - loss: 0.6552 - accuracy: 0.6482 - val_loss: 0.6870 - val_accuracy: 0.6236\n",
            "Epoch 20/100\n",
            "23/23 [==============================] - 0s 3ms/step - loss: 0.6461 - accuracy: 0.6726 - val_loss: 0.6842 - val_accuracy: 0.6292\n",
            "Epoch 21/100\n",
            "23/23 [==============================] - 0s 3ms/step - loss: 0.6594 - accuracy: 0.6634 - val_loss: 0.6841 - val_accuracy: 0.6180\n",
            "Epoch 22/100\n",
            "23/23 [==============================] - 0s 3ms/step - loss: 0.6306 - accuracy: 0.6815 - val_loss: 0.6984 - val_accuracy: 0.5899\n",
            "Epoch 23/100\n",
            "23/23 [==============================] - 0s 3ms/step - loss: 0.6410 - accuracy: 0.6672 - val_loss: 0.6847 - val_accuracy: 0.6348\n",
            "Epoch 24/100\n",
            "23/23 [==============================] - 0s 3ms/step - loss: 0.6363 - accuracy: 0.6610 - val_loss: 0.6816 - val_accuracy: 0.6348\n",
            "Epoch 25/100\n",
            "23/23 [==============================] - 0s 3ms/step - loss: 0.6158 - accuracy: 0.6804 - val_loss: 0.6741 - val_accuracy: 0.6180\n",
            "Epoch 26/100\n",
            "23/23 [==============================] - 0s 3ms/step - loss: 0.6041 - accuracy: 0.6968 - val_loss: 0.7062 - val_accuracy: 0.5787\n",
            "Epoch 27/100\n",
            "23/23 [==============================] - 0s 3ms/step - loss: 0.6333 - accuracy: 0.6764 - val_loss: 0.6799 - val_accuracy: 0.6236\n",
            "Epoch 28/100\n",
            "23/23 [==============================] - 0s 3ms/step - loss: 0.6314 - accuracy: 0.6587 - val_loss: 0.6683 - val_accuracy: 0.6236\n",
            "Epoch 29/100\n",
            "23/23 [==============================] - 0s 3ms/step - loss: 0.6275 - accuracy: 0.7005 - val_loss: 0.6629 - val_accuracy: 0.6292\n",
            "Epoch 30/100\n",
            "23/23 [==============================] - 0s 3ms/step - loss: 0.6226 - accuracy: 0.6924 - val_loss: 0.6629 - val_accuracy: 0.6180\n",
            "Epoch 31/100\n",
            "23/23 [==============================] - 0s 3ms/step - loss: 0.6379 - accuracy: 0.6496 - val_loss: 0.6680 - val_accuracy: 0.6292\n",
            "Epoch 32/100\n",
            "23/23 [==============================] - 0s 3ms/step - loss: 0.5932 - accuracy: 0.7089 - val_loss: 0.6643 - val_accuracy: 0.6404\n",
            "Epoch 33/100\n",
            "23/23 [==============================] - 0s 3ms/step - loss: 0.6013 - accuracy: 0.7089 - val_loss: 0.6604 - val_accuracy: 0.6404\n",
            "Epoch 34/100\n",
            "23/23 [==============================] - 0s 3ms/step - loss: 0.6216 - accuracy: 0.6922 - val_loss: 0.6517 - val_accuracy: 0.6236\n",
            "Epoch 35/100\n",
            "23/23 [==============================] - 0s 3ms/step - loss: 0.6058 - accuracy: 0.6983 - val_loss: 0.6561 - val_accuracy: 0.6404\n",
            "Epoch 36/100\n",
            "23/23 [==============================] - 0s 3ms/step - loss: 0.5971 - accuracy: 0.7026 - val_loss: 0.6676 - val_accuracy: 0.6180\n",
            "Epoch 37/100\n",
            "23/23 [==============================] - 0s 3ms/step - loss: 0.6089 - accuracy: 0.6886 - val_loss: 0.6467 - val_accuracy: 0.6348\n",
            "Epoch 38/100\n",
            "23/23 [==============================] - 0s 3ms/step - loss: 0.5946 - accuracy: 0.6999 - val_loss: 0.6562 - val_accuracy: 0.6292\n",
            "Epoch 39/100\n",
            "23/23 [==============================] - 0s 3ms/step - loss: 0.6141 - accuracy: 0.6785 - val_loss: 0.6409 - val_accuracy: 0.6292\n",
            "Epoch 40/100\n",
            "23/23 [==============================] - 0s 3ms/step - loss: 0.5883 - accuracy: 0.6997 - val_loss: 0.6467 - val_accuracy: 0.6348\n",
            "Epoch 41/100\n",
            "23/23 [==============================] - 0s 3ms/step - loss: 0.6073 - accuracy: 0.6906 - val_loss: 0.6445 - val_accuracy: 0.6348\n",
            "Epoch 42/100\n",
            "23/23 [==============================] - 0s 3ms/step - loss: 0.6184 - accuracy: 0.6779 - val_loss: 0.6335 - val_accuracy: 0.6517\n",
            "Epoch 43/100\n",
            "23/23 [==============================] - 0s 3ms/step - loss: 0.5908 - accuracy: 0.7103 - val_loss: 0.6623 - val_accuracy: 0.6067\n",
            "Epoch 44/100\n",
            "23/23 [==============================] - 0s 3ms/step - loss: 0.5926 - accuracy: 0.6889 - val_loss: 0.6278 - val_accuracy: 0.6517\n",
            "Epoch 45/100\n",
            "23/23 [==============================] - 0s 3ms/step - loss: 0.5956 - accuracy: 0.6960 - val_loss: 0.6244 - val_accuracy: 0.6517\n",
            "Epoch 46/100\n",
            "23/23 [==============================] - 0s 3ms/step - loss: 0.5685 - accuracy: 0.7117 - val_loss: 0.6433 - val_accuracy: 0.6348\n",
            "Epoch 47/100\n",
            "23/23 [==============================] - 0s 3ms/step - loss: 0.5757 - accuracy: 0.7094 - val_loss: 0.6304 - val_accuracy: 0.6348\n",
            "Epoch 48/100\n",
            "23/23 [==============================] - 0s 3ms/step - loss: 0.6066 - accuracy: 0.6737 - val_loss: 0.6176 - val_accuracy: 0.6404\n",
            "Epoch 49/100\n",
            "23/23 [==============================] - 0s 3ms/step - loss: 0.5702 - accuracy: 0.7183 - val_loss: 0.6151 - val_accuracy: 0.6348\n",
            "Epoch 50/100\n",
            "23/23 [==============================] - 0s 3ms/step - loss: 0.5659 - accuracy: 0.6993 - val_loss: 0.6104 - val_accuracy: 0.6685\n",
            "Epoch 51/100\n",
            "23/23 [==============================] - 0s 3ms/step - loss: 0.5446 - accuracy: 0.7379 - val_loss: 0.6098 - val_accuracy: 0.6348\n",
            "Epoch 52/100\n",
            "23/23 [==============================] - 0s 3ms/step - loss: 0.5552 - accuracy: 0.7076 - val_loss: 0.6185 - val_accuracy: 0.6348\n",
            "Epoch 53/100\n",
            "23/23 [==============================] - 0s 3ms/step - loss: 0.5489 - accuracy: 0.7190 - val_loss: 0.6098 - val_accuracy: 0.6348\n",
            "Epoch 54/100\n",
            "23/23 [==============================] - 0s 3ms/step - loss: 0.5892 - accuracy: 0.6871 - val_loss: 0.6291 - val_accuracy: 0.6461\n",
            "Epoch 55/100\n",
            "23/23 [==============================] - 0s 3ms/step - loss: 0.5453 - accuracy: 0.7134 - val_loss: 0.6040 - val_accuracy: 0.6404\n",
            "Epoch 56/100\n",
            "23/23 [==============================] - 0s 3ms/step - loss: 0.5761 - accuracy: 0.6942 - val_loss: 0.5996 - val_accuracy: 0.6348\n",
            "Epoch 57/100\n",
            "23/23 [==============================] - 0s 3ms/step - loss: 0.5490 - accuracy: 0.7242 - val_loss: 0.5919 - val_accuracy: 0.6517\n",
            "Epoch 58/100\n",
            "23/23 [==============================] - 0s 3ms/step - loss: 0.5293 - accuracy: 0.7377 - val_loss: 0.5897 - val_accuracy: 0.6461\n",
            "Epoch 59/100\n",
            "23/23 [==============================] - 0s 3ms/step - loss: 0.5390 - accuracy: 0.7138 - val_loss: 0.5896 - val_accuracy: 0.6348\n",
            "Epoch 60/100\n",
            "23/23 [==============================] - 0s 3ms/step - loss: 0.5442 - accuracy: 0.7314 - val_loss: 0.5805 - val_accuracy: 0.6573\n",
            "Epoch 61/100\n",
            "23/23 [==============================] - 0s 3ms/step - loss: 0.5428 - accuracy: 0.7324 - val_loss: 0.5786 - val_accuracy: 0.6573\n",
            "Epoch 62/100\n",
            "23/23 [==============================] - 0s 3ms/step - loss: 0.5417 - accuracy: 0.7278 - val_loss: 0.5734 - val_accuracy: 0.6854\n",
            "Epoch 63/100\n",
            "23/23 [==============================] - 0s 3ms/step - loss: 0.5351 - accuracy: 0.7381 - val_loss: 0.5796 - val_accuracy: 0.6404\n",
            "Epoch 64/100\n",
            "23/23 [==============================] - 0s 3ms/step - loss: 0.5259 - accuracy: 0.7494 - val_loss: 0.5690 - val_accuracy: 0.7191\n",
            "Epoch 65/100\n",
            "23/23 [==============================] - 0s 3ms/step - loss: 0.5533 - accuracy: 0.7318 - val_loss: 0.5703 - val_accuracy: 0.6742\n",
            "Epoch 66/100\n",
            "23/23 [==============================] - 0s 3ms/step - loss: 0.5166 - accuracy: 0.7604 - val_loss: 0.5969 - val_accuracy: 0.6461\n",
            "Epoch 67/100\n",
            "23/23 [==============================] - 0s 4ms/step - loss: 0.5486 - accuracy: 0.7126 - val_loss: 0.5621 - val_accuracy: 0.6742\n",
            "Epoch 68/100\n",
            "23/23 [==============================] - 0s 3ms/step - loss: 0.5531 - accuracy: 0.7265 - val_loss: 0.5824 - val_accuracy: 0.6573\n",
            "Epoch 69/100\n",
            "23/23 [==============================] - 0s 3ms/step - loss: 0.5197 - accuracy: 0.7386 - val_loss: 0.5574 - val_accuracy: 0.6966\n",
            "Epoch 70/100\n",
            "23/23 [==============================] - 0s 3ms/step - loss: 0.5540 - accuracy: 0.7334 - val_loss: 0.5553 - val_accuracy: 0.6966\n",
            "Epoch 71/100\n",
            "23/23 [==============================] - 0s 3ms/step - loss: 0.5235 - accuracy: 0.7453 - val_loss: 0.5713 - val_accuracy: 0.6854\n",
            "Epoch 72/100\n",
            "23/23 [==============================] - 0s 3ms/step - loss: 0.4967 - accuracy: 0.7662 - val_loss: 0.5544 - val_accuracy: 0.7079\n",
            "Epoch 73/100\n",
            "23/23 [==============================] - 0s 3ms/step - loss: 0.5283 - accuracy: 0.7573 - val_loss: 0.5448 - val_accuracy: 0.6910\n",
            "Epoch 74/100\n",
            "23/23 [==============================] - 0s 3ms/step - loss: 0.5215 - accuracy: 0.7739 - val_loss: 0.5454 - val_accuracy: 0.6910\n",
            "Epoch 75/100\n",
            "23/23 [==============================] - 0s 3ms/step - loss: 0.5257 - accuracy: 0.7728 - val_loss: 0.5532 - val_accuracy: 0.7135\n",
            "Epoch 76/100\n",
            "23/23 [==============================] - 0s 3ms/step - loss: 0.5172 - accuracy: 0.7602 - val_loss: 0.5451 - val_accuracy: 0.7135\n",
            "Epoch 77/100\n",
            "23/23 [==============================] - 0s 3ms/step - loss: 0.5031 - accuracy: 0.7748 - val_loss: 0.5454 - val_accuracy: 0.7135\n",
            "Epoch 78/100\n",
            "23/23 [==============================] - 0s 3ms/step - loss: 0.4998 - accuracy: 0.7998 - val_loss: 0.5328 - val_accuracy: 0.7191\n",
            "Epoch 79/100\n",
            "23/23 [==============================] - 0s 3ms/step - loss: 0.5130 - accuracy: 0.7791 - val_loss: 0.5712 - val_accuracy: 0.7022\n",
            "Epoch 80/100\n",
            "23/23 [==============================] - 0s 3ms/step - loss: 0.5233 - accuracy: 0.7636 - val_loss: 0.5396 - val_accuracy: 0.7191\n",
            "Epoch 81/100\n",
            "23/23 [==============================] - 0s 3ms/step - loss: 0.5061 - accuracy: 0.7928 - val_loss: 0.5255 - val_accuracy: 0.7247\n",
            "Epoch 82/100\n",
            "23/23 [==============================] - 0s 3ms/step - loss: 0.5036 - accuracy: 0.7843 - val_loss: 0.5182 - val_accuracy: 0.7191\n",
            "Epoch 83/100\n",
            "23/23 [==============================] - 0s 3ms/step - loss: 0.4990 - accuracy: 0.7998 - val_loss: 0.5241 - val_accuracy: 0.7303\n",
            "Epoch 84/100\n",
            "23/23 [==============================] - 0s 3ms/step - loss: 0.5022 - accuracy: 0.7881 - val_loss: 0.5229 - val_accuracy: 0.7191\n",
            "Epoch 85/100\n",
            "23/23 [==============================] - 0s 3ms/step - loss: 0.4967 - accuracy: 0.7724 - val_loss: 0.5160 - val_accuracy: 0.7247\n",
            "Epoch 86/100\n",
            "23/23 [==============================] - 0s 3ms/step - loss: 0.4919 - accuracy: 0.7953 - val_loss: 0.5141 - val_accuracy: 0.7303\n",
            "Epoch 87/100\n",
            "23/23 [==============================] - 0s 3ms/step - loss: 0.5506 - accuracy: 0.7470 - val_loss: 0.5169 - val_accuracy: 0.7247\n",
            "Epoch 88/100\n",
            "23/23 [==============================] - 0s 3ms/step - loss: 0.4938 - accuracy: 0.7946 - val_loss: 0.5678 - val_accuracy: 0.7079\n",
            "Epoch 89/100\n",
            "23/23 [==============================] - 0s 3ms/step - loss: 0.5233 - accuracy: 0.7778 - val_loss: 0.5330 - val_accuracy: 0.7247\n",
            "Epoch 90/100\n",
            "23/23 [==============================] - 0s 3ms/step - loss: 0.5098 - accuracy: 0.7850 - val_loss: 0.5103 - val_accuracy: 0.7809\n",
            "Epoch 91/100\n",
            "23/23 [==============================] - 0s 3ms/step - loss: 0.4848 - accuracy: 0.8086 - val_loss: 0.5007 - val_accuracy: 0.7809\n",
            "Epoch 92/100\n",
            "23/23 [==============================] - 0s 3ms/step - loss: 0.5058 - accuracy: 0.7843 - val_loss: 0.5005 - val_accuracy: 0.7809\n",
            "Epoch 93/100\n",
            "23/23 [==============================] - 0s 3ms/step - loss: 0.5085 - accuracy: 0.7791 - val_loss: 0.5048 - val_accuracy: 0.7809\n",
            "Epoch 94/100\n",
            "23/23 [==============================] - 0s 4ms/step - loss: 0.5218 - accuracy: 0.7673 - val_loss: 0.5150 - val_accuracy: 0.7865\n",
            "Epoch 95/100\n",
            "23/23 [==============================] - 0s 3ms/step - loss: 0.4852 - accuracy: 0.8022 - val_loss: 0.4956 - val_accuracy: 0.7865\n",
            "Epoch 96/100\n",
            "23/23 [==============================] - 0s 3ms/step - loss: 0.5210 - accuracy: 0.7726 - val_loss: 0.5324 - val_accuracy: 0.7809\n",
            "Epoch 97/100\n",
            "23/23 [==============================] - 0s 3ms/step - loss: 0.5091 - accuracy: 0.7744 - val_loss: 0.5032 - val_accuracy: 0.7865\n",
            "Epoch 98/100\n",
            "23/23 [==============================] - 0s 3ms/step - loss: 0.4903 - accuracy: 0.8012 - val_loss: 0.4951 - val_accuracy: 0.7921\n",
            "Epoch 99/100\n",
            "23/23 [==============================] - 0s 3ms/step - loss: 0.4614 - accuracy: 0.8130 - val_loss: 0.4878 - val_accuracy: 0.7921\n",
            "Epoch 100/100\n",
            "23/23 [==============================] - 0s 3ms/step - loss: 0.4973 - accuracy: 0.7811 - val_loss: 0.4892 - val_accuracy: 0.7921\n"
          ],
          "name": "stdout"
        }
      ]
    },
    {
      "cell_type": "code",
      "metadata": {
        "colab": {
          "base_uri": "https://localhost:8080/",
          "height": 705
        },
        "id": "awPmMvSqdua3",
        "outputId": "13808c41-b502-42af-d4b0-e142ed20ff7b"
      },
      "source": [
        "def pltGr(history, string):\n",
        "  plt.plot(history.history[string])\n",
        "  plt.plot(history.history['val_'+string])\n",
        "  plt.xlabel('Epochs')\n",
        "  plt.ylabel(string)\n",
        "  plt.legend([string, 'val_'+string])\n",
        "  plt.show()\n",
        "\n",
        "\n",
        "pltGr(history, 'accuracy')\n",
        "pltGr(history, 'loss')"
      ],
      "execution_count": null,
      "outputs": [
        {
          "output_type": "display_data",
          "data": {
            "image/png": "[encoded data removed]",
            "text/plain": [
              "<Figure size 576x396 with 1 Axes>"
            ]
          },
          "metadata": {
            "tags": []
          }
        },
        {
          "output_type": "display_data",
          "data": {
            "image/png": "[encoded data removed]",
            "text/plain": [
              "<Figure size 576x396 with 1 Axes>"
            ]
          },
          "metadata": {
            "tags": []
          }
        }
      ]
    },
    {
      "cell_type": "code",
      "metadata": {
        "id": "3v_ZaKvbeNVu"
      },
      "source": [
        "def predPlot(labels, preds):\n",
        "  plt.scatter(labels, preds)\n",
        "  plt.xlabel('True-Values/Labels')\n",
        "  plt.ylabel('Predicted-Values')\n",
        "  plt.axis('equal')\n",
        "  plt.axis('square')\n",
        "  #plt.xlim([0,plt.xlim()[1]])\n",
        "  #plt.ylim([0,plt.ylim()[1]])\n",
        "  #plt.plot([-100,100],[-100,100])\n",
        "  plt.show()"
      ],
      "execution_count": null,
      "outputs": []
    },
    {
      "cell_type": "code",
      "metadata": {
        "colab": {
          "base_uri": "https://localhost:8080/",
          "height": 361
        },
        "id": "wXhChkTfd41s",
        "outputId": "ce7eb84c-9a13-417b-a2a6-4733184dbb64"
      },
      "source": [
        "testPreds = model.predict(testFeatures).flatten()\n",
        "\n",
        "predPlot(testLabels, testPreds)"
      ],
      "execution_count": null,
      "outputs": [
        {
          "output_type": "display_data",
          "data": {
            "image/png": "[encoded data removed]",
            "text/plain": [
              "<Figure size 576x396 with 1 Axes>"
            ]
          },
          "metadata": {
            "tags": []
          }
        }
      ]
    },
    {
      "cell_type": "code",
      "metadata": {
        "id": "vYktWBrleJ1P"
      },
      "source": [
        "def errorPlot(labels, preds, binVal):\n",
        "  err = preds - labels\n",
        "  plt.hist(err, bins=binVal)\n",
        "  plt.xlabel('Prediction-Error')\n",
        "  plt.ylabel('Count')\n",
        "  plt.show()"
      ],
      "execution_count": null,
      "outputs": []
    },
    {
      "cell_type": "code",
      "metadata": {
        "colab": {
          "base_uri": "https://localhost:8080/",
          "height": 361
        },
        "id": "tlt8B7xBiVhf",
        "outputId": "6d5506d4-4792-43bd-fe52-4c878d232763"
      },
      "source": [
        "errorPlot(testLabels, testPreds, 100)"
      ],
      "execution_count": null,
      "outputs": [
        {
          "output_type": "display_data",
          "data": {
            "image/png": "[encoded data removed]",
            "text/plain": [
              "<Figure size 576x396 with 1 Axes>"
            ]
          },
          "metadata": {
            "tags": []
          }
        }
      ]
    }
  ]
}